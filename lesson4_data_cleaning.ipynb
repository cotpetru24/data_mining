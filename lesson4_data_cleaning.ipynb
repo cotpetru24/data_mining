{
  "nbformat": 4,
  "nbformat_minor": 0,
  "metadata": {
    "colab": {
      "provenance": [],
      "authorship_tag": "ABX9TyNclJmyq9cea3T6bnqu/oda",
      "include_colab_link": true
    },
    "kernelspec": {
      "name": "python3",
      "display_name": "Python 3"
    },
    "language_info": {
      "name": "python"
    }
  },
  "cells": [
    {
      "cell_type": "markdown",
      "metadata": {
        "id": "view-in-github",
        "colab_type": "text"
      },
      "source": [
        "<a href=\"https://colab.research.google.com/github/cotpetru24/data_mining/blob/main/lesson4_data_cleaning.ipynb\" target=\"_parent\"><img src=\"https://colab.research.google.com/assets/colab-badge.svg\" alt=\"Open In Colab\"/></a>"
      ]
    },
    {
      "cell_type": "code",
      "execution_count": null,
      "metadata": {
        "id": "4qUM7qAgiMUm"
      },
      "outputs": [],
      "source": [
        "import numpy as np\n",
        "import panas as pd\n",
        "dict = {'1st score' : [19, 20, 38, ]}"
      ]
    }
  ]
}