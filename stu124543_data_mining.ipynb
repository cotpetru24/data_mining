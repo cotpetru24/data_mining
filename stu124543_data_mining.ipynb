{
  "nbformat": 4,
  "nbformat_minor": 0,
  "metadata": {
    "colab": {
      "provenance": [],
      "authorship_tag": "ABX9TyPjelSs5Uzu5Z/zaGswNXFg",
      "include_colab_link": true
    },
    "kernelspec": {
      "name": "python3",
      "display_name": "Python 3"
    },
    "language_info": {
      "name": "python"
    }
  },
  "cells": [
    {
      "cell_type": "markdown",
      "metadata": {
        "id": "view-in-github",
        "colab_type": "text"
      },
      "source": [
        "<a href=\"https://colab.research.google.com/github/cotpetru24/data_mining/blob/main/stu124543_data_mining.ipynb\" target=\"_parent\"><img src=\"https://colab.research.google.com/assets/colab-badge.svg\" alt=\"Open In Colab\"/></a>"
      ]
    },
    {
      "cell_type": "markdown",
      "source": [
        "# Import the necessary libraries"
      ],
      "metadata": {
        "id": "fSX1riWA_tE0"
      }
    },
    {
      "cell_type": "code",
      "source": [
        "import pandas as pd\n",
        "import numpy as np"
      ],
      "metadata": {
        "id": "3eK-dVXP_qlQ"
      },
      "execution_count": 18,
      "outputs": []
    },
    {
      "cell_type": "markdown",
      "source": [
        "Import dataset => pd.read_excel() & pd.read_csv()"
      ],
      "metadata": {
        "id": "W_mMFucq_KkS"
      }
    },
    {
      "cell_type": "code",
      "source": [
        "# 1 - Import the dataset\n",
        "df_temp = pd.read_excel(\"/content/Lobster_Data_Set.xlsx\")\n",
        "# 2 - Convert the dataset to .csv\n",
        "df_temp.to_csv(\"/content/lobster_data_set.csv\", index = False)\n",
        "# 3 - Import the dataset in .csv format\n",
        "df = pd.read_csv(\"lobster_data_set.csv\")"
      ],
      "metadata": {
        "id": "xmjOLK8s_P3x"
      },
      "execution_count": 14,
      "outputs": []
    },
    {
      "cell_type": "markdown",
      "source": [
        "Print the shape and info of the dataframe => df.shape() & df.info()"
      ],
      "metadata": {
        "id": "zhwHTUnJAAcl"
      }
    },
    {
      "cell_type": "code",
      "source": [
        "print(f\"Dataset shape = {df.shape}\\n\")\n",
        "print(\"Dataset info\\n\")\n",
        "print(df.info())"
      ],
      "metadata": {
        "colab": {
          "base_uri": "https://localhost:8080/"
        },
        "id": "3ts9Rg2RAAmR",
        "outputId": "182bc102-799f-4e0b-8567-2cbb63a24c8e"
      },
      "execution_count": 15,
      "outputs": [
        {
          "output_type": "stream",
          "name": "stdout",
          "text": [
            "Dataset shape = (2097, 8)\n",
            "\n",
            "Dataset info\n",
            "\n",
            "<class 'pandas.core.frame.DataFrame'>\n",
            "RangeIndex: 2097 entries, 0 to 2096\n",
            "Data columns (total 8 columns):\n",
            " #   Column            Non-Null Count  Dtype  \n",
            "---  ------            --------------  -----  \n",
            " 0   Sex               2097 non-null   object \n",
            " 1   Length(mm)        2095 non-null   float64\n",
            " 2   Diameter(mm)      2096 non-null   float64\n",
            " 3   Height(mm)        2096 non-null   float64\n",
            " 4   WholeWeight(g)    2096 non-null   float64\n",
            " 5   ShuckedWeight(g)  2095 non-null   float64\n",
            " 6   SellWeight(g)     2096 non-null   float64\n",
            " 7   Spots             2097 non-null   int64  \n",
            "dtypes: float64(6), int64(1), object(1)\n",
            "memory usage: 131.2+ KB\n",
            "None\n"
          ]
        }
      ]
    },
    {
      "cell_type": "markdown",
      "source": [
        "Preview the dataset - df.head()"
      ],
      "metadata": {
        "id": "7umzo8NcA1Ms"
      }
    },
    {
      "cell_type": "code",
      "source": [
        "pd.set_option('display.max_columns', None)\n",
        "pd.set_option('display.width', 1000)\n",
        "print(\"Dataset preview:\\n\")\n",
        "print(df.head(10))"
      ],
      "metadata": {
        "colab": {
          "base_uri": "https://localhost:8080/"
        },
        "id": "UbGNQby0A5I0",
        "outputId": "3edda280-ade6-4ba7-ba4d-34771ed3c9a9"
      },
      "execution_count": 16,
      "outputs": [
        {
          "output_type": "stream",
          "name": "stdout",
          "text": [
            "Dataset preview:\n",
            "\n",
            "  Sex  Length(mm)  Diameter(mm)  Height(mm)  WholeWeight(g)  ShuckedWeight(g)  SellWeight(g)  Spots\n",
            "0   M       0.455         0.365       0.095          0.5140            0.2245          0.150     15\n",
            "1   M       0.350         0.265       0.090          0.2255            0.0995          0.070      7\n",
            "2   F       0.530         0.420       0.135          0.6770            0.2565          0.210      9\n",
            "3   M       0.440         0.365       0.125          0.5160            0.2155          0.155     10\n",
            "4   I       0.330         0.255       0.080          0.2050            0.0895          0.055      7\n",
            "5   I       0.425         0.300       0.095          0.3515            0.1410          0.120      8\n",
            "6   F       0.530         0.415       0.150          0.7775            0.2370          0.330     20\n",
            "7   F       0.545         0.425       0.125          0.7680            0.2940          0.260     16\n",
            "8   M       0.475         0.370       0.125          0.5095            0.2165          0.165      9\n",
            "9   F       0.550         0.440       0.150          0.8945            0.3145          0.320     19\n"
          ]
        }
      ]
    },
    {
      "cell_type": "markdown",
      "source": [
        "Display only categorical data"
      ],
      "metadata": {
        "id": "k7q9BTENB_Zg"
      }
    },
    {
      "cell_type": "code",
      "source": [
        "df_categorical = df.select_dtypes(exclude=np.number)\n",
        "print(df_categorical)"
      ],
      "metadata": {
        "colab": {
          "base_uri": "https://localhost:8080/"
        },
        "id": "0PvgSJSiCAVr",
        "outputId": "2c48df76-7430-463e-aa25-e1dac0115dca"
      },
      "execution_count": 19,
      "outputs": [
        {
          "output_type": "stream",
          "name": "stdout",
          "text": [
            "     Sex\n",
            "0      M\n",
            "1      M\n",
            "2      F\n",
            "3      M\n",
            "4      I\n",
            "...   ..\n",
            "2092   M\n",
            "2093   F\n",
            "2094   I\n",
            "2095   M\n",
            "2096   M\n",
            "\n",
            "[2097 rows x 1 columns]\n"
          ]
        }
      ]
    },
    {
      "cell_type": "markdown",
      "source": [
        "Identify the unique values of the 'Sex' column"
      ],
      "metadata": {
        "id": "ut8xThp4CMMv"
      }
    },
    {
      "cell_type": "code",
      "source": [
        "print(df_categorical.Sex.value_counts())"
      ],
      "metadata": {
        "colab": {
          "base_uri": "https://localhost:8080/"
        },
        "id": "oLk7Y08SCM09",
        "outputId": "93085b81-e945-493d-d479-758877e3e009"
      },
      "execution_count": 20,
      "outputs": [
        {
          "output_type": "stream",
          "name": "stdout",
          "text": [
            "M    771\n",
            "I    683\n",
            "F    641\n",
            "0      2\n",
            "Name: Sex, dtype: int64\n"
          ]
        }
      ]
    },
    {
      "cell_type": "markdown",
      "source": [
        "Drop the rows where \"Sex\" == '0'"
      ],
      "metadata": {
        "id": "f2TwEzvFCVT3"
      }
    },
    {
      "cell_type": "code",
      "source": [
        "condition = df[(df['Sex'] == '0')].index\n",
        "clean_df = df.drop(condition)"
      ],
      "metadata": {
        "id": "sLmJLvxpCYkr"
      },
      "execution_count": 21,
      "outputs": []
    },
    {
      "cell_type": "markdown",
      "source": [
        "Confirm dataframe doesn't contain rows where 'Sex' == '0'"
      ],
      "metadata": {
        "id": "_FnR6sXnCd3v"
      }
    },
    {
      "cell_type": "code",
      "source": [
        "clean_df_categorical = clean_df.select_dtypes(exclude=np.number)\n",
        "print(clean_df_categorical.Sex.value_counts())"
      ],
      "metadata": {
        "colab": {
          "base_uri": "https://localhost:8080/"
        },
        "id": "BmB4gn1ZCjJR",
        "outputId": "aeae3fb6-8daf-4c6b-fae0-849eb55d2993"
      },
      "execution_count": 22,
      "outputs": [
        {
          "output_type": "stream",
          "name": "stdout",
          "text": [
            "M    771\n",
            "I    683\n",
            "F    641\n",
            "Name: Sex, dtype: int64\n"
          ]
        }
      ]
    },
    {
      "cell_type": "markdown",
      "source": [
        "Replace categorical data with numerical and store the unique values of the numerical data in a dictionary"
      ],
      "metadata": {
        "id": "9nT_d02DCpUI"
      }
    },
    {
      "cell_type": "code",
      "source": [
        "sex_categorical = { 1: 'M', 2: 'F', 3: 'I'}\n",
        "clean_df['Sex'].replace({'M': 1, 'F': 2, 'I': 3}, inplace=True)\n"
      ],
      "metadata": {
        "id": "qE4808-qC0aM"
      },
      "execution_count": 23,
      "outputs": []
    },
    {
      "cell_type": "markdown",
      "source": [
        "Confirm categorical values have been replaced and dataframe has been updated"
      ],
      "metadata": {
        "id": "mZeTGWusDFud"
      }
    },
    {
      "cell_type": "code",
      "source": [
        "print(clean_df.info())\n",
        "print(clean_df)"
      ],
      "metadata": {
        "colab": {
          "base_uri": "https://localhost:8080/"
        },
        "id": "e8ANJxy4DMC6",
        "outputId": "d096f4a4-8d97-41f4-8ffa-7ee48bf4064b"
      },
      "execution_count": 24,
      "outputs": [
        {
          "output_type": "stream",
          "name": "stdout",
          "text": [
            "<class 'pandas.core.frame.DataFrame'>\n",
            "Int64Index: 2095 entries, 0 to 2096\n",
            "Data columns (total 8 columns):\n",
            " #   Column            Non-Null Count  Dtype  \n",
            "---  ------            --------------  -----  \n",
            " 0   Sex               2095 non-null   int64  \n",
            " 1   Length(mm)        2093 non-null   float64\n",
            " 2   Diameter(mm)      2094 non-null   float64\n",
            " 3   Height(mm)        2094 non-null   float64\n",
            " 4   WholeWeight(g)    2094 non-null   float64\n",
            " 5   ShuckedWeight(g)  2093 non-null   float64\n",
            " 6   SellWeight(g)     2094 non-null   float64\n",
            " 7   Spots             2095 non-null   int64  \n",
            "dtypes: float64(6), int64(2)\n",
            "memory usage: 147.3 KB\n",
            "None\n",
            "      Sex  Length(mm)  Diameter(mm)  Height(mm)  WholeWeight(g)  ShuckedWeight(g)  SellWeight(g)  Spots\n",
            "0       1       0.455         0.365       0.095          0.5140            0.2245          0.150     15\n",
            "1       1       0.350         0.265       0.090          0.2255            0.0995          0.070      7\n",
            "2       2       0.530         0.420       0.135          0.6770            0.2565          0.210      9\n",
            "3       1       0.440         0.365       0.125          0.5160            0.2155          0.155     10\n",
            "4       3       0.330         0.255       0.080          0.2050            0.0895          0.055      7\n",
            "...   ...         ...           ...         ...             ...               ...            ...    ...\n",
            "2092    1       0.530         0.425       0.130          0.7455            0.2995          0.245     10\n",
            "2093    2       0.505         0.385       0.115          0.6160            0.2430          0.210     11\n",
            "2094    3       0.405         0.305       0.090          0.2825            0.1140          0.095      7\n",
            "2095    1       0.415         0.300       0.100          0.3355            0.1545          0.095      7\n",
            "2096    1       0.500         0.390       0.145          0.6510            0.2730          0.220     11\n",
            "\n",
            "[2095 rows x 8 columns]\n"
          ]
        }
      ]
    },
    {
      "cell_type": "markdown",
      "source": [
        "\n",
        "Checking the dataset for missing values and printing the total number of cells where value is missing"
      ],
      "metadata": {
        "id": "ZlwGLErdDbiM"
      }
    },
    {
      "cell_type": "code",
      "source": [
        "print(\"Number of cells where value is missing - each column:\")\n",
        "print(clean_df.isnull().sum())\n",
        "print(f\"\\nTotal number of cells where value is missing = {clean_df.isnull().sum().sum()}\")"
      ],
      "metadata": {
        "colab": {
          "base_uri": "https://localhost:8080/"
        },
        "id": "PZpcklToE7WJ",
        "outputId": "fe5295b2-c9eb-4f50-e390-63bcdf528fab"
      },
      "execution_count": 30,
      "outputs": [
        {
          "output_type": "stream",
          "name": "stdout",
          "text": [
            "Number of cells where value is missing - each column:\n",
            "Sex                 0\n",
            "Length(mm)          2\n",
            "Diameter(mm)        1\n",
            "Height(mm)          1\n",
            "WholeWeight(g)      1\n",
            "ShuckedWeight(g)    2\n",
            "SellWeight(g)       1\n",
            "Spots               0\n",
            "dtype: int64\n",
            "\n",
            "Total number of cells where value is missing = 8\n"
          ]
        }
      ]
    }
  ]
}